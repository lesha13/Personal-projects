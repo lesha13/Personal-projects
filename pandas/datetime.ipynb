{
 "cells": [
  {
   "cell_type": "code",
   "execution_count": 1,
   "id": "59c6debc",
   "metadata": {},
   "outputs": [],
   "source": [
    "from datetime import datetime"
   ]
  },
  {
   "cell_type": "code",
   "execution_count": 2,
   "id": "8cd7e619",
   "metadata": {},
   "outputs": [
    {
     "data": {
      "text/plain": [
       "datetime.datetime(2022, 6, 30, 13, 41, 29, 77593)"
      ]
     },
     "execution_count": 2,
     "metadata": {},
     "output_type": "execute_result"
    }
   ],
   "source": [
    "now = datetime.now()\n",
    "now"
   ]
  },
  {
   "cell_type": "code",
   "execution_count": 3,
   "id": "cc1f9a24",
   "metadata": {},
   "outputs": [],
   "source": [
    "from datetime import timedelta"
   ]
  },
  {
   "cell_type": "code",
   "execution_count": 4,
   "id": "74140a84",
   "metadata": {},
   "outputs": [
    {
     "data": {
      "text/plain": [
       "datetime.datetime(2022, 1, 26, 0, 0)"
      ]
     },
     "execution_count": 4,
     "metadata": {},
     "output_type": "execute_result"
    }
   ],
   "source": [
    "start = datetime(2022, 1, 21)\n",
    "start + timedelta(5)"
   ]
  },
  {
   "cell_type": "code",
   "execution_count": 5,
   "id": "e3cc0894",
   "metadata": {},
   "outputs": [
    {
     "data": {
      "text/plain": [
       "datetime.datetime(2021, 12, 28, 0, 0)"
      ]
     },
     "execution_count": 5,
     "metadata": {},
     "output_type": "execute_result"
    }
   ],
   "source": [
    "start - 3 * timedelta(8)"
   ]
  },
  {
   "cell_type": "code",
   "execution_count": 6,
   "id": "861e75d3",
   "metadata": {},
   "outputs": [
    {
     "data": {
      "text/plain": [
       "'2022-01-21 00:00:00'"
      ]
     },
     "execution_count": 6,
     "metadata": {},
     "output_type": "execute_result"
    }
   ],
   "source": [
    "str(start)"
   ]
  },
  {
   "cell_type": "code",
   "execution_count": 7,
   "id": "ec1ce873",
   "metadata": {},
   "outputs": [],
   "source": [
    "from dateutil.parser import parse"
   ]
  },
  {
   "cell_type": "code",
   "execution_count": 8,
   "id": "740320ea",
   "metadata": {},
   "outputs": [
    {
     "data": {
      "text/plain": [
       "datetime.datetime(2004, 9, 9, 0, 0)"
      ]
     },
     "execution_count": 8,
     "metadata": {},
     "output_type": "execute_result"
    }
   ],
   "source": [
    "parse('2004-9-9')"
   ]
  },
  {
   "cell_type": "code",
   "execution_count": 9,
   "id": "af7f131f",
   "metadata": {},
   "outputs": [
    {
     "data": {
      "text/plain": [
       "datetime.datetime(1997, 1, 31, 22, 40)"
      ]
     },
     "execution_count": 9,
     "metadata": {},
     "output_type": "execute_result"
    }
   ],
   "source": [
    "parse('Jan 31, 1997 10:40 PM')"
   ]
  },
  {
   "cell_type": "code",
   "execution_count": 10,
   "id": "ad9dfeae",
   "metadata": {},
   "outputs": [
    {
     "data": {
      "text/plain": [
       "datetime.datetime(2004, 9, 9, 0, 0)"
      ]
     },
     "execution_count": 10,
     "metadata": {},
     "output_type": "execute_result"
    }
   ],
   "source": [
    "parse('9-9-2004', dayfirst=True)"
   ]
  },
  {
   "cell_type": "code",
   "execution_count": 11,
   "id": "fb8dc957",
   "metadata": {},
   "outputs": [],
   "source": [
    "import pandas as pd\n",
    "import numpy as np"
   ]
  },
  {
   "cell_type": "code",
   "execution_count": 12,
   "id": "336074b9",
   "metadata": {},
   "outputs": [
    {
     "data": {
      "text/plain": [
       "DatetimeIndex(['2021-02-13', '2021-12-14'], dtype='datetime64[ns]', freq=None)"
      ]
     },
     "execution_count": 12,
     "metadata": {},
     "output_type": "execute_result"
    }
   ],
   "source": [
    "dates = ['13-2-2021', '14-12-2021']\n",
    "pd.to_datetime(dates)"
   ]
  },
  {
   "cell_type": "code",
   "execution_count": 13,
   "id": "f95198b5",
   "metadata": {},
   "outputs": [
    {
     "data": {
      "text/plain": [
       "DatetimeIndex(['2021-02-13', '2021-12-14', 'NaT'], dtype='datetime64[ns]', freq=None)"
      ]
     },
     "execution_count": 13,
     "metadata": {},
     "output_type": "execute_result"
    }
   ],
   "source": [
    "pd.to_datetime(dates + [None])"
   ]
  },
  {
   "cell_type": "code",
   "execution_count": 14,
   "id": "de9850b9",
   "metadata": {},
   "outputs": [
    {
     "data": {
      "text/plain": [
       "2022-01-01    0.150979\n",
       "2022-01-03    0.944483\n",
       "2022-01-05   -1.040266\n",
       "2022-01-07    1.254855\n",
       "2022-01-09    1.113478\n",
       "2022-01-11   -0.264984\n",
       "dtype: float64"
      ]
     },
     "execution_count": 14,
     "metadata": {},
     "output_type": "execute_result"
    }
   ],
   "source": [
    "dates = [datetime(2022, 1, _) for _ in np.arange(1, 12, 2)]\n",
    "ts = pd.Series(np.random.randn(len(dates)), index=dates)\n",
    "ts"
   ]
  },
  {
   "cell_type": "code",
   "execution_count": 15,
   "id": "5cfb2777",
   "metadata": {},
   "outputs": [
    {
     "data": {
      "text/plain": [
       "pandas.core.series.Series"
      ]
     },
     "execution_count": 15,
     "metadata": {},
     "output_type": "execute_result"
    }
   ],
   "source": [
    "type(ts)"
   ]
  },
  {
   "cell_type": "code",
   "execution_count": 16,
   "id": "b8b5eaa3",
   "metadata": {},
   "outputs": [
    {
     "data": {
      "text/plain": [
       "DatetimeIndex(['2022-01-01', '2022-01-03', '2022-01-05', '2022-01-07',\n",
       "               '2022-01-09', '2022-01-11'],\n",
       "              dtype='datetime64[ns]', freq=None)"
      ]
     },
     "execution_count": 16,
     "metadata": {},
     "output_type": "execute_result"
    }
   ],
   "source": [
    "ts.index"
   ]
  },
  {
   "cell_type": "code",
   "execution_count": 17,
   "id": "5fd3da5d",
   "metadata": {},
   "outputs": [
    {
     "data": {
      "text/plain": [
       "dtype('<M8[ns]')"
      ]
     },
     "execution_count": 17,
     "metadata": {},
     "output_type": "execute_result"
    }
   ],
   "source": [
    "ts.index.dtype"
   ]
  },
  {
   "cell_type": "code",
   "execution_count": 18,
   "id": "3a192b4c",
   "metadata": {},
   "outputs": [
    {
     "data": {
      "text/plain": [
       "Timestamp('2022-01-01 00:00:00')"
      ]
     },
     "execution_count": 18,
     "metadata": {},
     "output_type": "execute_result"
    }
   ],
   "source": [
    "ts.index[0]"
   ]
  },
  {
   "cell_type": "code",
   "execution_count": 19,
   "id": "85028074",
   "metadata": {},
   "outputs": [
    {
     "data": {
      "text/plain": [
       "0.15097938018408705"
      ]
     },
     "execution_count": 19,
     "metadata": {},
     "output_type": "execute_result"
    }
   ],
   "source": [
    "ts['2022-01-01']"
   ]
  },
  {
   "cell_type": "code",
   "execution_count": 20,
   "id": "b31ff497",
   "metadata": {},
   "outputs": [
    {
     "data": {
      "text/plain": [
       "0.15097938018408705"
      ]
     },
     "execution_count": 20,
     "metadata": {},
     "output_type": "execute_result"
    }
   ],
   "source": [
    "ts['2022/01/01']"
   ]
  },
  {
   "cell_type": "code",
   "execution_count": 21,
   "id": "3201d6dc",
   "metadata": {},
   "outputs": [
    {
     "data": {
      "text/plain": [
       "0.15097938018408705"
      ]
     },
     "execution_count": 21,
     "metadata": {},
     "output_type": "execute_result"
    }
   ],
   "source": [
    "ts['20220101']"
   ]
  },
  {
   "cell_type": "code",
   "execution_count": 22,
   "id": "cfa24392",
   "metadata": {},
   "outputs": [
    {
     "data": {
      "text/plain": [
       "2000-01-01   -0.899311\n",
       "2000-01-02   -1.294123\n",
       "2000-01-03    0.571227\n",
       "2000-01-04   -0.091065\n",
       "2000-01-05   -0.570164\n",
       "                ...   \n",
       "2002-09-22   -1.087173\n",
       "2002-09-23   -0.284545\n",
       "2002-09-24    0.495679\n",
       "2002-09-25   -0.141977\n",
       "2002-09-26    0.384434\n",
       "Freq: D, Length: 1000, dtype: float64"
      ]
     },
     "execution_count": 22,
     "metadata": {},
     "output_type": "execute_result"
    }
   ],
   "source": [
    "long_ts = pd.Series(\n",
    "    np.random.randn(1000),\n",
    "    index=pd.date_range('1-1-2000', periods=1000))\n",
    "long_ts"
   ]
  },
  {
   "cell_type": "code",
   "execution_count": 23,
   "id": "7a352a06",
   "metadata": {},
   "outputs": [
    {
     "data": {
      "text/plain": [
       "2000-01-01   -0.899311\n",
       "2000-01-02   -1.294123\n",
       "2000-01-03    0.571227\n",
       "2000-01-04   -0.091065\n",
       "2000-01-05   -0.570164\n",
       "                ...   \n",
       "2000-12-27    1.313324\n",
       "2000-12-28    0.089498\n",
       "2000-12-29   -0.179624\n",
       "2000-12-30   -0.105605\n",
       "2000-12-31   -0.506884\n",
       "Freq: D, Length: 366, dtype: float64"
      ]
     },
     "execution_count": 23,
     "metadata": {},
     "output_type": "execute_result"
    }
   ],
   "source": [
    "long_ts['2000']"
   ]
  },
  {
   "cell_type": "code",
   "execution_count": 24,
   "id": "d2430705",
   "metadata": {},
   "outputs": [
    {
     "data": {
      "text/plain": [
       "2000-05-01    0.128133\n",
       "2000-05-02   -0.378737\n",
       "2000-05-03   -0.005586\n",
       "2000-05-04    1.089392\n",
       "2000-05-05    1.882143\n",
       "2000-05-06    1.237589\n",
       "2000-05-07    0.529299\n",
       "2000-05-08   -0.195221\n",
       "2000-05-09    1.924230\n",
       "2000-05-10    1.038072\n",
       "2000-05-11   -2.734222\n",
       "2000-05-12   -0.387776\n",
       "2000-05-13   -0.736910\n",
       "2000-05-14    0.576669\n",
       "2000-05-15    0.387929\n",
       "2000-05-16   -0.171632\n",
       "2000-05-17    1.120406\n",
       "2000-05-18    2.139711\n",
       "2000-05-19    0.196208\n",
       "2000-05-20    0.985494\n",
       "2000-05-21   -0.911369\n",
       "2000-05-22    0.058324\n",
       "2000-05-23    1.663980\n",
       "2000-05-24   -0.713207\n",
       "2000-05-25    0.307214\n",
       "2000-05-26   -0.384672\n",
       "2000-05-27    0.197686\n",
       "2000-05-28    1.220822\n",
       "2000-05-29    0.156289\n",
       "2000-05-30   -1.994906\n",
       "2000-05-31   -0.026765\n",
       "Freq: D, dtype: float64"
      ]
     },
     "execution_count": 24,
     "metadata": {},
     "output_type": "execute_result"
    }
   ],
   "source": [
    "long_ts['2000-05']"
   ]
  },
  {
   "cell_type": "code",
   "execution_count": 25,
   "id": "22efc500",
   "metadata": {},
   "outputs": [
    {
     "data": {
      "text/plain": [
       "2000-05-01    0.128133\n",
       "2000-05-02   -0.378737\n",
       "2000-05-03   -0.005586\n",
       "2000-05-04    1.089392\n",
       "2000-05-05    1.882143\n",
       "                ...   \n",
       "2000-07-27    0.720879\n",
       "2000-07-28    0.413682\n",
       "2000-07-29    1.220142\n",
       "2000-07-30   -1.279931\n",
       "2000-07-31   -0.597817\n",
       "Freq: D, Length: 92, dtype: float64"
      ]
     },
     "execution_count": 25,
     "metadata": {},
     "output_type": "execute_result"
    }
   ],
   "source": [
    "long_ts['2000-05': '2000-07']"
   ]
  },
  {
   "cell_type": "code",
   "execution_count": 26,
   "id": "c54a489f",
   "metadata": {},
   "outputs": [
    {
     "data": {
      "text/plain": [
       "2000-05-01    0.128133\n",
       "2000-05-04    1.089392\n",
       "2000-05-07    0.529299\n",
       "2000-05-10    1.038072\n",
       "2000-05-13   -0.736910\n",
       "2000-05-16   -0.171632\n",
       "2000-05-19    0.196208\n",
       "2000-05-22    0.058324\n",
       "2000-05-25    0.307214\n",
       "2000-05-28    1.220822\n",
       "2000-05-31   -0.026765\n",
       "2000-06-03    0.109351\n",
       "2000-06-06   -2.039443\n",
       "2000-06-09    0.063803\n",
       "2000-06-12    0.079173\n",
       "2000-06-15   -0.006922\n",
       "2000-06-18    1.582695\n",
       "2000-06-21   -0.386104\n",
       "2000-06-24   -0.673348\n",
       "2000-06-27    0.446532\n",
       "2000-06-30    2.273425\n",
       "2000-07-03   -1.534723\n",
       "2000-07-06    1.082884\n",
       "2000-07-09   -1.049995\n",
       "2000-07-12    0.860931\n",
       "2000-07-15    1.976058\n",
       "2000-07-18   -1.458469\n",
       "2000-07-21    0.911623\n",
       "2000-07-24   -0.261140\n",
       "2000-07-27    0.720879\n",
       "2000-07-30   -1.279931\n",
       "Freq: 3D, dtype: float64"
      ]
     },
     "execution_count": 26,
     "metadata": {},
     "output_type": "execute_result"
    }
   ],
   "source": [
    "long_ts['2000-05': '2000-07': 3]"
   ]
  },
  {
   "cell_type": "code",
   "execution_count": 27,
   "id": "1b2da903",
   "metadata": {},
   "outputs": [
    {
     "data": {
      "text/plain": [
       "2000-01-01    0\n",
       "2000-01-02    1\n",
       "2000-01-02    2\n",
       "2000-01-02    3\n",
       "2000-01-03    4\n",
       "dtype: int32"
      ]
     },
     "execution_count": 27,
     "metadata": {},
     "output_type": "execute_result"
    }
   ],
   "source": [
    "dates = pd.DatetimeIndex(\n",
    "    ['1/1/2000', '1/2/2000', '1/2/2000', '1/2/2000', '1/3/2000'])\n",
    "dup_ts = pd.Series(np.arange(5), index = dates)\n",
    "dup_ts"
   ]
  },
  {
   "cell_type": "code",
   "execution_count": 28,
   "id": "0aec37e8",
   "metadata": {},
   "outputs": [
    {
     "data": {
      "text/plain": [
       "False"
      ]
     },
     "execution_count": 28,
     "metadata": {},
     "output_type": "execute_result"
    }
   ],
   "source": [
    "dup_ts.index.is_unique"
   ]
  },
  {
   "cell_type": "code",
   "execution_count": 29,
   "id": "aae079fd",
   "metadata": {},
   "outputs": [
    {
     "data": {
      "text/plain": [
       "0"
      ]
     },
     "execution_count": 29,
     "metadata": {},
     "output_type": "execute_result"
    }
   ],
   "source": [
    "dup_ts['1/1/2000']"
   ]
  },
  {
   "cell_type": "code",
   "execution_count": 30,
   "id": "8cc1a1c5",
   "metadata": {},
   "outputs": [
    {
     "data": {
      "text/plain": [
       "2000-01-02    1\n",
       "2000-01-02    2\n",
       "2000-01-02    3\n",
       "dtype: int32"
      ]
     },
     "execution_count": 30,
     "metadata": {},
     "output_type": "execute_result"
    }
   ],
   "source": [
    "dup_ts['1/2/2000']"
   ]
  },
  {
   "cell_type": "code",
   "execution_count": 31,
   "id": "75077000",
   "metadata": {},
   "outputs": [
    {
     "data": {
      "text/plain": [
       "DatetimeIndex(['2012-04-01', '2012-04-02', '2012-04-03', '2012-04-04',\n",
       "               '2012-04-05', '2012-04-06', '2012-04-07', '2012-04-08',\n",
       "               '2012-04-09', '2012-04-10', '2012-04-11', '2012-04-12',\n",
       "               '2012-04-13', '2012-04-14', '2012-04-15', '2012-04-16',\n",
       "               '2012-04-17', '2012-04-18', '2012-04-19', '2012-04-20',\n",
       "               '2012-04-21', '2012-04-22', '2012-04-23', '2012-04-24',\n",
       "               '2012-04-25', '2012-04-26', '2012-04-27', '2012-04-28',\n",
       "               '2012-04-29', '2012-04-30', '2012-05-01', '2012-05-02',\n",
       "               '2012-05-03', '2012-05-04', '2012-05-05', '2012-05-06',\n",
       "               '2012-05-07', '2012-05-08', '2012-05-09', '2012-05-10',\n",
       "               '2012-05-11', '2012-05-12', '2012-05-13', '2012-05-14',\n",
       "               '2012-05-15', '2012-05-16', '2012-05-17', '2012-05-18',\n",
       "               '2012-05-19', '2012-05-20', '2012-05-21', '2012-05-22',\n",
       "               '2012-05-23', '2012-05-24', '2012-05-25', '2012-05-26',\n",
       "               '2012-05-27', '2012-05-28', '2012-05-29', '2012-05-30',\n",
       "               '2012-05-31', '2012-06-01', '2012-06-02', '2012-06-03',\n",
       "               '2012-06-04', '2012-06-05', '2012-06-06', '2012-06-07',\n",
       "               '2012-06-08', '2012-06-09', '2012-06-10', '2012-06-11',\n",
       "               '2012-06-12', '2012-06-13', '2012-06-14', '2012-06-15',\n",
       "               '2012-06-16', '2012-06-17', '2012-06-18', '2012-06-19',\n",
       "               '2012-06-20', '2012-06-21', '2012-06-22', '2012-06-23',\n",
       "               '2012-06-24', '2012-06-25', '2012-06-26', '2012-06-27',\n",
       "               '2012-06-28', '2012-06-29', '2012-06-30', '2012-07-01'],\n",
       "              dtype='datetime64[ns]', freq='D')"
      ]
     },
     "execution_count": 31,
     "metadata": {},
     "output_type": "execute_result"
    }
   ],
   "source": [
    "pd.date_range('4-1-2012', '7-1-2012')"
   ]
  },
  {
   "cell_type": "code",
   "execution_count": 32,
   "id": "532a8c56",
   "metadata": {},
   "outputs": [
    {
     "data": {
      "text/plain": [
       "DatetimeIndex(['2012-04-01', '2012-04-02', '2012-04-03', '2012-04-04',\n",
       "               '2012-04-05', '2012-04-06', '2012-04-07', '2012-04-08',\n",
       "               '2012-04-09', '2012-04-10', '2012-04-11', '2012-04-12',\n",
       "               '2012-04-13', '2012-04-14', '2012-04-15', '2012-04-16',\n",
       "               '2012-04-17', '2012-04-18', '2012-04-19', '2012-04-20'],\n",
       "              dtype='datetime64[ns]', freq='D')"
      ]
     },
     "execution_count": 32,
     "metadata": {},
     "output_type": "execute_result"
    }
   ],
   "source": [
    "pd.date_range(start='4-1-2012', periods=20)"
   ]
  },
  {
   "cell_type": "code",
   "execution_count": 33,
   "id": "55ee9033",
   "metadata": {},
   "outputs": [
    {
     "data": {
      "text/plain": [
       "DatetimeIndex(['2012-04-01', '2012-04-02', '2012-04-03', '2012-04-04',\n",
       "               '2012-04-05', '2012-04-06', '2012-04-07', '2012-04-08',\n",
       "               '2012-04-09', '2012-04-10', '2012-04-11', '2012-04-12',\n",
       "               '2012-04-13', '2012-04-14', '2012-04-15', '2012-04-16',\n",
       "               '2012-04-17', '2012-04-18', '2012-04-19', '2012-04-20'],\n",
       "              dtype='datetime64[ns]', freq='D')"
      ]
     },
     "execution_count": 33,
     "metadata": {},
     "output_type": "execute_result"
    }
   ],
   "source": [
    "pd.date_range(end='4-20-2012', periods=20)"
   ]
  },
  {
   "cell_type": "code",
   "execution_count": 34,
   "id": "f07a44cc",
   "metadata": {},
   "outputs": [
    {
     "data": {
      "text/plain": [
       "DatetimeIndex(['2022-01-01 12:56:31', '2022-01-02 12:56:31',\n",
       "               '2022-01-03 12:56:31', '2022-01-04 12:56:31',\n",
       "               '2022-01-05 12:56:31'],\n",
       "              dtype='datetime64[ns]', freq='D')"
      ]
     },
     "execution_count": 34,
     "metadata": {},
     "output_type": "execute_result"
    }
   ],
   "source": [
    "pd.date_range('2022-1-1 12:56:31', periods=5)"
   ]
  },
  {
   "cell_type": "code",
   "execution_count": 35,
   "id": "0b293bc9",
   "metadata": {},
   "outputs": [
    {
     "data": {
      "text/plain": [
       "DatetimeIndex(['2022-01-01', '2022-01-02', '2022-01-03', '2022-01-04',\n",
       "               '2022-01-05'],\n",
       "              dtype='datetime64[ns]', freq='D')"
      ]
     },
     "execution_count": 35,
     "metadata": {},
     "output_type": "execute_result"
    }
   ],
   "source": [
    "pd.date_range('2022-1-1 12:56:31', periods=5, normalize=True)"
   ]
  },
  {
   "cell_type": "code",
   "execution_count": 36,
   "id": "64859b7a",
   "metadata": {},
   "outputs": [
    {
     "data": {
      "text/plain": [
       "DatetimeIndex(['2022-01-01 00:00:00', '2022-01-01 04:00:00',\n",
       "               '2022-01-01 08:00:00', '2022-01-01 12:00:00',\n",
       "               '2022-01-01 16:00:00', '2022-01-01 20:00:00',\n",
       "               '2022-01-02 00:00:00', '2022-01-02 04:00:00',\n",
       "               '2022-01-02 08:00:00', '2022-01-02 12:00:00',\n",
       "               ...\n",
       "               '2022-01-30 12:00:00', '2022-01-30 16:00:00',\n",
       "               '2022-01-30 20:00:00', '2022-01-31 00:00:00',\n",
       "               '2022-01-31 04:00:00', '2022-01-31 08:00:00',\n",
       "               '2022-01-31 12:00:00', '2022-01-31 16:00:00',\n",
       "               '2022-01-31 20:00:00', '2022-02-01 00:00:00'],\n",
       "              dtype='datetime64[ns]', length=187, freq='4H')"
      ]
     },
     "execution_count": 36,
     "metadata": {},
     "output_type": "execute_result"
    }
   ],
   "source": [
    "pd.date_range('2022-1-1', '2022-2-1', freq='4H')"
   ]
  },
  {
   "cell_type": "code",
   "execution_count": 37,
   "id": "07b64173",
   "metadata": {},
   "outputs": [
    {
     "data": {
      "text/plain": [
       "DatetimeIndex(['2022-01-01 00:00:00', '2022-01-01 01:30:00',\n",
       "               '2022-01-01 03:00:00', '2022-01-01 04:30:00',\n",
       "               '2022-01-01 06:00:00', '2022-01-01 07:30:00',\n",
       "               '2022-01-01 09:00:00', '2022-01-01 10:30:00',\n",
       "               '2022-01-01 12:00:00', '2022-01-01 13:30:00'],\n",
       "              dtype='datetime64[ns]', freq='90T')"
      ]
     },
     "execution_count": 37,
     "metadata": {},
     "output_type": "execute_result"
    }
   ],
   "source": [
    "pd.date_range('2022-1-1', periods=10, freq='1H30MIN')"
   ]
  },
  {
   "cell_type": "code",
   "execution_count": 38,
   "id": "d4b7fe08",
   "metadata": {},
   "outputs": [
    {
     "data": {
      "text/plain": [
       "DatetimeIndex(['2022-06-01', '2022-06-02', '2022-06-03', '2022-06-06',\n",
       "               '2022-06-07', '2022-06-08', '2022-06-09', '2022-06-10',\n",
       "               '2022-06-13', '2022-06-14', '2022-06-15', '2022-06-16',\n",
       "               '2022-06-17', '2022-06-20', '2022-06-21', '2022-06-22',\n",
       "               '2022-06-23', '2022-06-24', '2022-06-27', '2022-06-28',\n",
       "               '2022-06-29', '2022-06-30'],\n",
       "              dtype='datetime64[ns]', freq='B')"
      ]
     },
     "execution_count": 38,
     "metadata": {},
     "output_type": "execute_result"
    }
   ],
   "source": [
    "pd.date_range(start='2022-06-01' , end=datetime.now(), freq=\"B\", normalize=True)"
   ]
  },
  {
   "cell_type": "code",
   "execution_count": 39,
   "id": "64cc4842",
   "metadata": {},
   "outputs": [
    {
     "data": {
      "text/plain": [
       "2022-01-31   -0.326893\n",
       "2022-02-28   -0.946338\n",
       "2022-03-31    0.742805\n",
       "2022-04-30    0.915300\n",
       "2022-05-31    1.798428\n",
       "Freq: M, dtype: float64"
      ]
     },
     "execution_count": 39,
     "metadata": {},
     "output_type": "execute_result"
    }
   ],
   "source": [
    "ts = pd.Series(\n",
    "    np.random.randn(5),\n",
    "    index=pd.date_range('1-1-2022', periods=5, freq=\"M\"))\n",
    "ts"
   ]
  },
  {
   "cell_type": "code",
   "execution_count": 40,
   "id": "05938e24",
   "metadata": {},
   "outputs": [
    {
     "data": {
      "text/plain": [
       "2022-01-31         NaN\n",
       "2022-02-28         NaN\n",
       "2022-03-31   -0.326893\n",
       "2022-04-30   -0.946338\n",
       "2022-05-31    0.742805\n",
       "Freq: M, dtype: float64"
      ]
     },
     "execution_count": 40,
     "metadata": {},
     "output_type": "execute_result"
    }
   ],
   "source": [
    "ts.shift(2)"
   ]
  },
  {
   "cell_type": "code",
   "execution_count": 41,
   "id": "fccb3f55",
   "metadata": {},
   "outputs": [
    {
     "data": {
      "text/plain": [
       "2022-01-31    0.742805\n",
       "2022-02-28    0.915300\n",
       "2022-03-31    1.798428\n",
       "2022-04-30         NaN\n",
       "2022-05-31         NaN\n",
       "Freq: M, dtype: float64"
      ]
     },
     "execution_count": 41,
     "metadata": {},
     "output_type": "execute_result"
    }
   ],
   "source": [
    "ts.shift(-2)"
   ]
  },
  {
   "cell_type": "code",
   "execution_count": 42,
   "id": "39963e02",
   "metadata": {},
   "outputs": [
    {
     "data": {
      "text/plain": [
       "2022-03-31   -0.326893\n",
       "2022-04-30   -0.946338\n",
       "2022-05-31    0.742805\n",
       "2022-06-30    0.915300\n",
       "2022-07-31    1.798428\n",
       "Freq: M, dtype: float64"
      ]
     },
     "execution_count": 42,
     "metadata": {},
     "output_type": "execute_result"
    }
   ],
   "source": [
    "ts.shift(2, freq=\"M\")"
   ]
  },
  {
   "cell_type": "code",
   "execution_count": 43,
   "id": "9ead6ead",
   "metadata": {},
   "outputs": [
    {
     "data": {
      "text/plain": [
       "2022-02-03   -0.326893\n",
       "2022-03-03   -0.946338\n",
       "2022-04-03    0.742805\n",
       "2022-05-03    0.915300\n",
       "2022-06-03    1.798428\n",
       "dtype: float64"
      ]
     },
     "execution_count": 43,
     "metadata": {},
     "output_type": "execute_result"
    }
   ],
   "source": [
    "ts.shift(3, freq=\"D\")"
   ]
  },
  {
   "cell_type": "code",
   "execution_count": 44,
   "id": "39bcc77b",
   "metadata": {},
   "outputs": [
    {
     "data": {
      "text/plain": [
       "2022-02-03   -0.326893\n",
       "2022-03-03   -0.946338\n",
       "2022-04-03    0.742805\n",
       "2022-05-03    0.915300\n",
       "2022-06-03    1.798428\n",
       "dtype: float64"
      ]
     },
     "execution_count": 44,
     "metadata": {},
     "output_type": "execute_result"
    }
   ],
   "source": [
    "ts.shift(1, freq=\"3D\")"
   ]
  },
  {
   "cell_type": "code",
   "execution_count": 45,
   "id": "c7739e6e",
   "metadata": {},
   "outputs": [
    {
     "data": {
      "text/plain": [
       "2022-01-31 01:30:00   -0.326893\n",
       "2022-02-28 01:30:00   -0.946338\n",
       "2022-03-31 01:30:00    0.742805\n",
       "2022-04-30 01:30:00    0.915300\n",
       "2022-05-31 01:30:00    1.798428\n",
       "dtype: float64"
      ]
     },
     "execution_count": 45,
     "metadata": {},
     "output_type": "execute_result"
    }
   ],
   "source": [
    "ts.shift(1, freq=\"90MIN\")"
   ]
  },
  {
   "cell_type": "code",
   "execution_count": 46,
   "id": "31cd5644",
   "metadata": {},
   "outputs": [],
   "source": [
    "import pytz"
   ]
  },
  {
   "cell_type": "code",
   "execution_count": 47,
   "id": "540466a6",
   "metadata": {},
   "outputs": [
    {
     "data": {
      "text/plain": [
       "<DstTzInfo 'US/Eastern' LMT-1 day, 19:04:00 STD>"
      ]
     },
     "execution_count": 47,
     "metadata": {},
     "output_type": "execute_result"
    }
   ],
   "source": [
    "tz = pytz.timezone('US/Eastern')\n",
    "tz"
   ]
  },
  {
   "cell_type": "code",
   "execution_count": 48,
   "id": "9e3c9fa7",
   "metadata": {},
   "outputs": [
    {
     "data": {
      "text/plain": [
       "DatetimeIndex(['2022-01-01 00:00:00+00:00', '2022-01-01 20:30:00+00:00',\n",
       "               '2022-01-02 17:00:00+00:00', '2022-01-03 13:30:00+00:00',\n",
       "               '2022-01-04 10:00:00+00:00', '2022-01-05 06:30:00+00:00',\n",
       "               '2022-01-06 03:00:00+00:00', '2022-01-06 23:30:00+00:00',\n",
       "               '2022-01-07 20:00:00+00:00', '2022-01-08 16:30:00+00:00'],\n",
       "              dtype='datetime64[ns, UTC]', freq='1230T')"
      ]
     },
     "execution_count": 48,
     "metadata": {},
     "output_type": "execute_result"
    }
   ],
   "source": [
    "ts = pd.date_range('2022-1-1', periods=10, freq='20H30MIN', tz=\"UTC\")\n",
    "ts"
   ]
  },
  {
   "cell_type": "code",
   "execution_count": 49,
   "id": "c22a51f4",
   "metadata": {},
   "outputs": [
    {
     "data": {
      "text/plain": [
       "DatetimeIndex(['2022-01-01 00:00:00+00:00', '2022-01-01 20:30:00+00:00',\n",
       "               '2022-01-02 17:00:00+00:00', '2022-01-03 13:30:00+00:00',\n",
       "               '2022-01-04 10:00:00+00:00', '2022-01-05 06:30:00+00:00',\n",
       "               '2022-01-06 03:00:00+00:00', '2022-01-06 23:30:00+00:00',\n",
       "               '2022-01-07 20:00:00+00:00', '2022-01-08 16:30:00+00:00'],\n",
       "              dtype='datetime64[ns, UTC]', freq='1230T')"
      ]
     },
     "execution_count": 49,
     "metadata": {},
     "output_type": "execute_result"
    }
   ],
   "source": [
    "ts = pd.date_range('2022-1-1', periods=10, freq='20H30MIN',)\n",
    "ts = ts.tz_localize(\"UTC\")\n",
    "ts"
   ]
  },
  {
   "cell_type": "code",
   "execution_count": 50,
   "id": "757a07c9",
   "metadata": {},
   "outputs": [
    {
     "data": {
      "text/plain": [
       "DatetimeIndex(['2021-12-31 19:00:00-05:00', '2022-01-01 15:30:00-05:00',\n",
       "               '2022-01-02 12:00:00-05:00', '2022-01-03 08:30:00-05:00',\n",
       "               '2022-01-04 05:00:00-05:00', '2022-01-05 01:30:00-05:00',\n",
       "               '2022-01-05 22:00:00-05:00', '2022-01-06 18:30:00-05:00',\n",
       "               '2022-01-07 15:00:00-05:00', '2022-01-08 11:30:00-05:00'],\n",
       "              dtype='datetime64[ns, US/Eastern]', freq='1230T')"
      ]
     },
     "execution_count": 50,
     "metadata": {},
     "output_type": "execute_result"
    }
   ],
   "source": [
    "ts.tz_convert(\"US/Eastern\")"
   ]
  },
  {
   "cell_type": "code",
   "execution_count": 51,
   "id": "5fbf0dab",
   "metadata": {},
   "outputs": [
    {
     "data": {
      "text/plain": [
       "DatetimeIndex(['2022-01-01 02:00:00+02:00', '2022-01-01 22:30:00+02:00',\n",
       "               '2022-01-02 19:00:00+02:00', '2022-01-03 15:30:00+02:00',\n",
       "               '2022-01-04 12:00:00+02:00', '2022-01-05 08:30:00+02:00',\n",
       "               '2022-01-06 05:00:00+02:00', '2022-01-07 01:30:00+02:00',\n",
       "               '2022-01-07 22:00:00+02:00', '2022-01-08 18:30:00+02:00'],\n",
       "              dtype='datetime64[ns, Europe/Kiev]', freq='1230T')"
      ]
     },
     "execution_count": 51,
     "metadata": {},
     "output_type": "execute_result"
    }
   ],
   "source": [
    "ts.tz_convert(\"Europe/Kiev\")"
   ]
  },
  {
   "cell_type": "code",
   "execution_count": 52,
   "id": "20e1409d",
   "metadata": {},
   "outputs": [
    {
     "data": {
      "text/plain": [
       "Timestamp('2022-01-01 04:00:00+0200', tz='Europe/Kiev')"
      ]
     },
     "execution_count": 52,
     "metadata": {},
     "output_type": "execute_result"
    }
   ],
   "source": [
    "pd.Timestamp(\"2022-1-1 4:00\").tz_localize(\"Europe/Kiev\")"
   ]
  },
  {
   "cell_type": "code",
   "execution_count": 53,
   "id": "f3f996d0",
   "metadata": {},
   "outputs": [
    {
     "data": {
      "text/plain": [
       "Timestamp('2022-01-01 04:00:00+0200', tz='Europe/Kiev')"
      ]
     },
     "execution_count": 53,
     "metadata": {},
     "output_type": "execute_result"
    }
   ],
   "source": [
    "pd.Timestamp(\"2022-1-1 4:00\", tz=\"Europe/Kiev\")"
   ]
  },
  {
   "cell_type": "code",
   "execution_count": 54,
   "id": "3777a6d7",
   "metadata": {},
   "outputs": [],
   "source": [
    "ts = pd.Series(\n",
    "    np.random.randn(100), \n",
    "    index=pd.date_range('1-1-2020', periods=100, freq=\"D\"))"
   ]
  },
  {
   "cell_type": "code",
   "execution_count": 55,
   "id": "77bda492",
   "metadata": {},
   "outputs": [
    {
     "data": {
      "text/plain": [
       "2020-01-31    0.110272\n",
       "2020-02-29    0.109955\n",
       "2020-03-31    0.028740\n",
       "2020-04-30   -0.518818\n",
       "Freq: M, dtype: float64"
      ]
     },
     "execution_count": 55,
     "metadata": {},
     "output_type": "execute_result"
    }
   ],
   "source": [
    "ts.resample('M').mean()"
   ]
  },
  {
   "cell_type": "code",
   "execution_count": 56,
   "id": "9e075acd",
   "metadata": {},
   "outputs": [
    {
     "data": {
      "text/plain": [
       "2020-01    0.110272\n",
       "2020-02    0.109955\n",
       "2020-03    0.028740\n",
       "2020-04   -0.518818\n",
       "Freq: M, dtype: float64"
      ]
     },
     "execution_count": 56,
     "metadata": {},
     "output_type": "execute_result"
    }
   ],
   "source": [
    "ts.resample('M', kind=\"period\").mean()"
   ]
  },
  {
   "cell_type": "code",
   "execution_count": 57,
   "id": "020e0588",
   "metadata": {
    "scrolled": true
   },
   "outputs": [
    {
     "data": {
      "text/plain": [
       "2020-01-01 00:00:00     0\n",
       "2020-01-01 00:01:00     1\n",
       "2020-01-01 00:02:00     2\n",
       "2020-01-01 00:03:00     3\n",
       "2020-01-01 00:04:00     4\n",
       "2020-01-01 00:05:00     5\n",
       "2020-01-01 00:06:00     6\n",
       "2020-01-01 00:07:00     7\n",
       "2020-01-01 00:08:00     8\n",
       "2020-01-01 00:09:00     9\n",
       "2020-01-01 00:10:00    10\n",
       "2020-01-01 00:11:00    11\n",
       "Freq: T, dtype: int32"
      ]
     },
     "execution_count": 57,
     "metadata": {},
     "output_type": "execute_result"
    }
   ],
   "source": [
    "ts = pd.Series(\n",
    "    np.arange(12),\n",
    "    index=pd.date_range('1-1-2020', periods=12, freq=\"min\"))\n",
    "ts"
   ]
  },
  {
   "cell_type": "code",
   "execution_count": 58,
   "id": "b2bdbc0b",
   "metadata": {},
   "outputs": [
    {
     "data": {
      "text/plain": [
       "2020-01-01 00:00:00    10\n",
       "2020-01-01 00:05:00    35\n",
       "2020-01-01 00:10:00    21\n",
       "Freq: 5T, dtype: int32"
      ]
     },
     "execution_count": 58,
     "metadata": {},
     "output_type": "execute_result"
    }
   ],
   "source": [
    "ts.resample('5min', closed=\"left\").sum()"
   ]
  },
  {
   "cell_type": "code",
   "execution_count": 59,
   "id": "c2f56c92",
   "metadata": {},
   "outputs": [
    {
     "data": {
      "text/html": [
       "<div>\n",
       "<style scoped>\n",
       "    .dataframe tbody tr th:only-of-type {\n",
       "        vertical-align: middle;\n",
       "    }\n",
       "\n",
       "    .dataframe tbody tr th {\n",
       "        vertical-align: top;\n",
       "    }\n",
       "\n",
       "    .dataframe thead th {\n",
       "        text-align: right;\n",
       "    }\n",
       "</style>\n",
       "<table border=\"1\" class=\"dataframe\">\n",
       "  <thead>\n",
       "    <tr style=\"text-align: right;\">\n",
       "      <th></th>\n",
       "      <th>open</th>\n",
       "      <th>high</th>\n",
       "      <th>low</th>\n",
       "      <th>close</th>\n",
       "    </tr>\n",
       "  </thead>\n",
       "  <tbody>\n",
       "    <tr>\n",
       "      <th>2020-01-01 00:00:00</th>\n",
       "      <td>0</td>\n",
       "      <td>4</td>\n",
       "      <td>0</td>\n",
       "      <td>4</td>\n",
       "    </tr>\n",
       "    <tr>\n",
       "      <th>2020-01-01 00:05:00</th>\n",
       "      <td>5</td>\n",
       "      <td>9</td>\n",
       "      <td>5</td>\n",
       "      <td>9</td>\n",
       "    </tr>\n",
       "    <tr>\n",
       "      <th>2020-01-01 00:10:00</th>\n",
       "      <td>10</td>\n",
       "      <td>11</td>\n",
       "      <td>10</td>\n",
       "      <td>11</td>\n",
       "    </tr>\n",
       "  </tbody>\n",
       "</table>\n",
       "</div>"
      ],
      "text/plain": [
       "                     open  high  low  close\n",
       "2020-01-01 00:00:00     0     4    0      4\n",
       "2020-01-01 00:05:00     5     9    5      9\n",
       "2020-01-01 00:10:00    10    11   10     11"
      ]
     },
     "execution_count": 59,
     "metadata": {},
     "output_type": "execute_result"
    }
   ],
   "source": [
    "ts.resample('5min', closed=\"left\").ohlc()"
   ]
  },
  {
   "cell_type": "code",
   "execution_count": null,
   "id": "faa0d3eb",
   "metadata": {},
   "outputs": [],
   "source": []
  }
 ],
 "metadata": {
  "kernelspec": {
   "display_name": "Python 3",
   "language": "python",
   "name": "python3"
  },
  "language_info": {
   "codemirror_mode": {
    "name": "ipython",
    "version": 3
   },
   "file_extension": ".py",
   "mimetype": "text/x-python",
   "name": "python",
   "nbconvert_exporter": "python",
   "pygments_lexer": "ipython3",
   "version": "3.8.8"
  }
 },
 "nbformat": 4,
 "nbformat_minor": 5
}
